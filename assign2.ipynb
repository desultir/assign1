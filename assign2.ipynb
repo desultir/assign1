{
  "nbformat": 4,
  "nbformat_minor": 0,
  "metadata": {
    "colab": {
      "name": "assign2.ipynb",
      "version": "0.3.2",
      "provenance": [],
      "collapsed_sections": [],
      "include_colab_link": true
    },
    "kernelspec": {
      "name": "python3",
      "display_name": "Python 3"
    },
    "accelerator": "GPU"
  },
  "cells": [
    {
      "cell_type": "markdown",
      "metadata": {
        "id": "view-in-github",
        "colab_type": "text"
      },
      "source": [
        "<a href=\"https://colab.research.google.com/github/desultir/assign1/blob/master/assign2.ipynb\" target=\"_parent\"><img src=\"https://colab.research.google.com/assets/colab-badge.svg\" alt=\"Open In Colab\"/></a>"
      ]
    },
    {
      "cell_type": "code",
      "metadata": {
        "id": "uNETLdx3NYsT",
        "colab_type": "code",
        "outputId": "c9fc90e4-ccf2-4087-ba58-c6fbfdaea449",
        "colab": {
          "base_uri": "https://localhost:8080/",
          "height": 34
        }
      },
      "source": [
        "from google.colab import drive\n",
        "drive.mount('/content/drive', force_remount=True)\n",
        "  \n",
        "#!cd \"/content/drive/My Drive/Colab Notebooks/PretrainedModels\" && tar xvzf *.tar.gz\n",
        "#!cd \"/content/drive/My Drive/Colab Notebooks/Input\" && tar xvzf test.tar.gz"
      ],
      "execution_count": 0,
      "outputs": [
        {
          "output_type": "stream",
          "text": [
            "Mounted at /content/drive\n"
          ],
          "name": "stdout"
        }
      ]
    },
    {
      "cell_type": "code",
      "metadata": {
        "id": "Le9tHatGFym_",
        "colab_type": "code",
        "colab": {}
      },
      "source": [
        "MODEL_DIR = \"/content/drive/My Drive/Colab Notebooks/PretrainedModels/\"\n",
        "MODEL_NAME = \"faster_rcnn_resnet50_coco_2018_01_28\""
      ],
      "execution_count": 0,
      "outputs": []
    },
    {
      "cell_type": "code",
      "metadata": {
        "id": "Ot5mOjEzjmLE",
        "colab_type": "code",
        "colab": {}
      },
      "source": [
        "from matplotlib.image import imread\n",
        "import numpy as np\n",
        "\n",
        "def preprocess(image):\n",
        "  #TODO implement\n",
        "  return image\n",
        "\n",
        "\n",
        "def load_and_preprocess(path):\n",
        "  image = tf.read_file(path)\n",
        "  return preprocess(image)\n",
        "\n",
        "def load_np(paths):\n",
        "  return np.stack([imread(x) for x in paths])"
      ],
      "execution_count": 0,
      "outputs": []
    },
    {
      "cell_type": "code",
      "metadata": {
        "id": "Kpapr6w9380t",
        "colab_type": "code",
        "colab": {
          "base_uri": "https://localhost:8080/",
          "height": 34
        },
        "outputId": "3c6cf803-9de6-4bf8-831a-f18ea882b690"
      },
      "source": [
        ""
      ],
      "execution_count": 47,
      "outputs": [
        {
          "output_type": "execute_result",
          "data": {
            "text/plain": [
              "(2, 320, 320, 3)"
            ]
          },
          "metadata": {
            "tags": []
          },
          "execution_count": 47
        }
      ]
    },
    {
      "cell_type": "code",
      "metadata": {
        "id": "icyq6f23O4nQ",
        "colab_type": "code",
        "colab": {}
      },
      "source": [
        "import glob\n",
        "import csv\n",
        "import tensorflow as tf\n",
        "import os\n",
        "from tensorflow.core.framework import graph_pb2\n",
        "from tensorflow.python.saved_model import loader\n",
        "AUTOTUNE = tf.data.experimental.AUTOTUNE\n",
        "\n",
        "#load train images\n",
        "train_img_list = glob.glob(r\"/content/drive/My Drive/Colab Notebooks/Input/train2014/*.jpg\")\n",
        "train_img_list_ds = tf.data.Dataset.from_tensor_slices(train_img_list)\n",
        "image_ds = train_img_list_ds.map(load_and_preprocess, num_parallel_calls=AUTOTUNE)\n",
        "\n",
        "\n",
        "#load train labels\n",
        "train_labels_filename = r\"/content/drive/My Drive/Colab Notebooks/Input/train.txt\"\n",
        "with open(train_labels_filename) as f:\n",
        "  reader = csv.reader(f, delimiter='\\t')\n",
        "  train_labels = {k:v for k, v in reader}"
      ],
      "execution_count": 0,
      "outputs": []
    },
    {
      "cell_type": "code",
      "metadata": {
        "id": "pVYGrOZTpWft",
        "colab_type": "code",
        "colab": {}
      },
      "source": [
        ""
      ],
      "execution_count": 0,
      "outputs": []
    },
    {
      "cell_type": "code",
      "metadata": {
        "id": "yHtgiCtnSbxX",
        "colab_type": "code",
        "outputId": "2bc5efa6-1ef1-4d4f-9198-822ea46ecdee",
        "colab": {
          "base_uri": "https://localhost:8080/",
          "height": 34
        }
      },
      "source": [
        "#load the trainable model from the checkpoint\n",
        "sess = tf.Session()\n",
        "\n",
        "saver = tf.train.import_meta_graph(os.path.join(MODEL_DIR,MODEL_NAME, 'model.ckpt.meta'))\n",
        "saver.restore(sess, os.path.join(MODEL_DIR,MODEL_NAME, 'model.ckpt'))"
      ],
      "execution_count": 20,
      "outputs": [
        {
          "output_type": "stream",
          "text": [
            "INFO:tensorflow:Restoring parameters from /content/drive/My Drive/Colab Notebooks/PretrainedModels/faster_rcnn_resnet50_coco_2018_01_28/model.ckpt\n"
          ],
          "name": "stdout"
        }
      ]
    },
    {
      "cell_type": "code",
      "metadata": {
        "id": "pS2bPDzwufSM",
        "colab_type": "code",
        "colab": {}
      },
      "source": [
        "np_imgs = load_np([train_img_list[2], train_img_list[7]])\n",
        "result = sess.run(\"detection_classes:0\", feed_dict={\"image_tensor:0\": np_imgs})"
      ],
      "execution_count": 0,
      "outputs": []
    },
    {
      "cell_type": "code",
      "metadata": {
        "id": "rdxGbqfBwpf0",
        "colab_type": "code",
        "outputId": "95902d82-9433-4345-bc19-a29cbc7e7c7d",
        "colab": {
          "base_uri": "https://localhost:8080/",
          "height": 289
        }
      },
      "source": [
        "result"
      ],
      "execution_count": 51,
      "outputs": [
        {
          "output_type": "execute_result",
          "data": {
            "text/plain": [
              "array([[ 1.,  1.,  1.,  1.,  2., 22.,  8.,  3.,  1.,  1.,  1.,  1.,  1.,\n",
              "         1.,  1.,  1.,  1.,  1.,  1.,  1.,  1.,  1.,  1.,  1.,  1.,  1.,\n",
              "         1.,  1.,  1.,  1.,  1.,  1.,  1.,  1.,  1.,  1.,  1.,  1.,  1.,\n",
              "         1.,  1.,  1.,  1.,  1.,  1.,  1.,  1.,  1.,  1.,  1.,  1.,  1.,\n",
              "         1.,  1.,  1.,  1.,  1.,  1.,  1.,  1.,  1.,  1.,  1.,  1.,  1.,\n",
              "         1.,  1.,  1.,  1.,  1.,  1.,  1.,  1.,  1.,  1.,  1.,  1.,  1.,\n",
              "         1.,  1.,  1.,  1.,  1.,  1.,  1.,  1.,  1.,  1.,  1.,  1.,  1.,\n",
              "         1.,  1.,  1.,  1.,  1.,  1.,  1.,  1.,  1.],\n",
              "       [ 1.,  1., 58.,  1.,  1.,  1.,  1.,  1.,  1.,  1.,  1.,  1.,  1.,\n",
              "         1.,  1.,  1.,  1.,  1.,  1.,  1.,  1.,  1.,  1.,  1.,  1.,  1.,\n",
              "         1.,  1.,  1.,  1.,  1.,  1.,  1.,  1.,  1.,  1.,  1.,  1.,  1.,\n",
              "         1.,  1.,  1.,  1.,  1.,  1.,  1.,  1.,  1.,  1.,  1.,  1.,  1.,\n",
              "         1.,  1.,  1.,  1.,  1.,  1.,  1.,  1.,  1.,  1.,  1.,  1.,  1.,\n",
              "         1.,  1.,  1.,  1.,  1.,  1.,  1.,  1.,  1.,  1.,  1.,  1.,  1.,\n",
              "         1.,  1.,  1.,  1.,  1.,  1.,  1.,  1.,  1.,  1.,  1.,  1.,  1.,\n",
              "         1.,  1.,  1.,  1.,  1.,  1.,  1.,  1.,  1.]], dtype=float32)"
            ]
          },
          "metadata": {
            "tags": []
          },
          "execution_count": 51
        }
      ]
    }
  ]
}