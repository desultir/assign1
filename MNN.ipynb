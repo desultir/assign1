{
  "nbformat": 4,
  "nbformat_minor": 0,
  "metadata": {
    "colab": {
      "name": "MNN.ipynb",
      "version": "0.3.2",
      "provenance": [],
      "collapsed_sections": [],
      "include_colab_link": true
    },
    "kernelspec": {
      "name": "python3",
      "display_name": "Python 3"
    }
  },
  "cells": [
    {
      "cell_type": "markdown",
      "metadata": {
        "id": "view-in-github",
        "colab_type": "text"
      },
      "source": [
        "<a href=\"https://colab.research.google.com/github/desultir/assign1/blob/master/MNN.ipynb\" target=\"_parent\"><img src=\"https://colab.research.google.com/assets/colab-badge.svg\" alt=\"Open In Colab\"/></a>"
      ]
    },
    {
      "metadata": {
        "id": "fQvPcbXfGAnt",
        "colab_type": "code",
        "outputId": "5f8deca1-1c5c-4b37-c5f3-f1da36662252",
        "colab": {
          "base_uri": "https://localhost:8080/",
          "height": 68
        }
      },
      "cell_type": "code",
      "source": [
        "!pip install --upgrade scipy\n",
        "!pip install --upgrade numpy\n"
      ],
      "execution_count": 0,
      "outputs": [
        {
          "output_type": "stream",
          "text": [
            "Requirement already up-to-date: scipy in /usr/local/lib/python3.6/dist-packages (1.2.1)\n",
            "Requirement already satisfied, skipping upgrade: numpy>=1.8.2 in /usr/local/lib/python3.6/dist-packages (from scipy) (1.16.3)\n",
            "Requirement already up-to-date: numpy in /usr/local/lib/python3.6/dist-packages (1.16.3)\n"
          ],
          "name": "stdout"
        }
      ]
    },
    {
      "metadata": {
        "id": "GGkj2RPTaJ9g",
        "colab_type": "code",
        "colab": {}
      },
      "cell_type": "code",
      "source": [
        "import numpy as np\n",
        "import matplotlib.pyplot as pl\n",
        "from ipywidgets import interact, widgets\n",
        "from matplotlib import animation\n",
        "import h5py\n",
        "from google.colab import drive\n",
        "import time\n"
      ],
      "execution_count": 0,
      "outputs": []
    },
    {
      "metadata": {
        "id": "kf3k_uTGGlqK",
        "colab_type": "code",
        "outputId": "3c5e2a24-e3a1-4ee2-d98d-98d74922aec8",
        "colab": {
          "base_uri": "https://localhost:8080/",
          "height": 122
        }
      },
      "cell_type": "code",
      "source": [
        "drive.mount('/content/drive', force_remount=True)\n",
        "with h5py.File('/content/drive/My Drive/Colab Notebooks/Input/train_128.h5','r') as H:\n",
        "  data = np.copy(H['data'])\n",
        "with h5py.File('/content/drive/My Drive/Colab Notebooks/Input/train_label.h5','r') as H:\n",
        "  label = np.copy(H['label'])"
      ],
      "execution_count": 0,
      "outputs": [
        {
          "output_type": "stream",
          "text": [
            "Go to this URL in a browser: https://accounts.google.com/o/oauth2/auth?client_id=947318989803-6bn6qk8qdgf4n4g3pfee6491hc0brc4i.apps.googleusercontent.com&redirect_uri=urn%3Aietf%3Awg%3Aoauth%3A2.0%3Aoob&scope=email%20https%3A%2F%2Fwww.googleapis.com%2Fauth%2Fdocs.test%20https%3A%2F%2Fwww.googleapis.com%2Fauth%2Fdrive%20https%3A%2F%2Fwww.googleapis.com%2Fauth%2Fdrive.photos.readonly%20https%3A%2F%2Fwww.googleapis.com%2Fauth%2Fpeopleapi.readonly&response_type=code\n",
            "\n",
            "Enter your authorization code:\n",
            "··········\n",
            "Mounted at /content/drive\n"
          ],
          "name": "stdout"
        }
      ]
    },
    {
      "metadata": {
        "id": "rJ4v9obPcy13",
        "colab_type": "code",
        "colab": {}
      },
      "cell_type": "code",
      "source": [
        "\n",
        "import pickle\n",
        "import glob\n",
        "\n",
        "model_dir = \"/content/drive/My Drive/Colab Notebooks/Models/{}.pk\"\n",
        "\n",
        "def list_models():\n",
        "  return glob.glob(model_dir.format(\"*\"))\n",
        "\n",
        "\n"
      ],
      "execution_count": 0,
      "outputs": []
    },
    {
      "metadata": {
        "id": "DOSt_vG94Mfi",
        "colab_type": "code",
        "colab": {}
      },
      "cell_type": "code",
      "source": [
        "# need to normalize input data to avoid overflow/underflow in initial epochs\n",
        "# normalize each feature independently\n",
        "# options are zscore, minmax\n",
        "def preprocess(input_array, method='zscore'):\n",
        "  if method == 'zscore':\n",
        "    for i in range(input_array.shape[1]):\n",
        "      mean = np.mean(input_array[:, i])\n",
        "      std = np.std(input_array[:, i])\n",
        "      input_array[:, i] = (input_array[:, i] - mean) / std\n",
        "  elif method == 'minmax':\n",
        "    for i in range(input_array.shape[1]):\n",
        "      # range 0 to max\n",
        "      input_array[:, i] = (input_array[:, i] - np.min(input_array[:, i]))\n",
        "      # range 0 to 2\n",
        "      input_array[:, i] /= (np.max(input_array[:, i]) / 2)\n",
        "      # range -1 to 1\n",
        "      input_array[:, i] -= 1\n",
        "      "
      ],
      "execution_count": 0,
      "outputs": []
    },
    {
      "metadata": {
        "id": "hCFYVtU06MPR",
        "colab_type": "code",
        "colab": {}
      },
      "cell_type": "code",
      "source": [
        "#use stratified sampling to split train into train/validation\n",
        "#this dataset is actually balanced but still good practice\n",
        "def split(dataset, labels, train_percent=.85):\n",
        "  count = len(dataset)\n",
        "  num_classes = np.max(label) + 1\n",
        "  train = []\n",
        "  train_target = []\n",
        "  validate = []\n",
        "  validate_target = []\n",
        "  for i in range(num_classes):\n",
        "    class_data = np.ravel(np.argwhere(label == i))\n",
        "    np.random.shuffle(class_data)\n",
        "    cutoff = int(len(class_data) * train_percent)\n",
        "    train_idx = class_data[:cutoff]\n",
        "    val_idx = class_data[cutoff:]\n",
        "    train.append(dataset[train_idx])\n",
        "    train_target.append(labels[train_idx])\n",
        "    validate.append(dataset[val_idx])\n",
        "    validate_target.append(labels[val_idx])\n",
        "    \n",
        "  return np.vstack(train), np.hstack(train_target), np.vstack(validate), np.hstack(validate_target)"
      ],
      "execution_count": 0,
      "outputs": []
    },
    {
      "metadata": {
        "id": "RsZmOeyySQq9",
        "colab_type": "code",
        "colab": {}
      },
      "cell_type": "code",
      "source": [
        "#need to one-hot encode labels to map to N output nodes (1 per class)\n",
        "#ie convert each label into a (10,) vector where the relevant column is 1\n",
        "\n",
        "def OHE(input_array, num_classes=10):\n",
        "  output = []\n",
        "  for x in input_array:\n",
        "    output.append(np.zeros((10,)))\n",
        "    output[-1][x] = 1\n",
        "  return np.vstack(output)"
      ],
      "execution_count": 0,
      "outputs": []
    },
    {
      "metadata": {
        "id": "q8KpB-EXchIh",
        "colab_type": "code",
        "colab": {}
      },
      "cell_type": "code",
      "source": [
        "## implemented formulae from here: https://towardsdatascience.com/hyper-parameters-in-action-part-ii-weight-initializers-35aee1a28404\n",
        "class InitWeights(object):\n",
        "  def xavier(self, n_in, n_out, uniform=True):\n",
        "    if uniform:\n",
        "      bounds = np.sqrt(6) / (np.sqrt(n_in + n_out))\n",
        "      return self._uniform(n_in, n_out, bounds) \n",
        "    else:\n",
        "      stddev = np.sqrt(2) / (np.sqrt(n_in + n_out))\n",
        "      return self._truncated_normal(n_in, n_out, stddev)\n",
        "    \n",
        "  def he(self, n_in, n_out, uniform=True):\n",
        "    if uniform:\n",
        "      bounds = np.sqrt(2) / (np.sqrt(n_in))\n",
        "      return self._uniform(n_in, n_out, bounds)      \n",
        "    else:\n",
        "      stddev = np.sqrt(6) / (np.sqrt(n_in))\n",
        "      return self._truncated_normal(n_in, n_out, stddev)\n",
        " \n",
        "  def _uniform(self, n_in, n_out, bounds):\n",
        "    W = np.random.uniform(\n",
        "        low=-bounds,\n",
        "        high=bounds,\n",
        "        size=(n_in, n_out)\n",
        "      )\n",
        "    return W\n",
        "  \n",
        "  def _truncated_normal(self, n_in, n_out, stddev):\n",
        "    W = np.random.normal(\n",
        "        loc=0,\n",
        "        scale=stddev,\n",
        "        size=(n_in, n_out)\n",
        "      )\n",
        "    #truncate results - anything > 2 stddev out gets clipped\n",
        "    W[W> 2*stddev] = 2*stddev\n",
        "    W[W<-2*stddev] = -2*stddev\n",
        "    return W\n",
        "  \n",
        "  def __init__(self, init_method=\"xavier\"):\n",
        "    if init_method==\"xavier\":\n",
        "      self.f = self.xavier\n",
        "    elif init_method==\"he\":\n",
        "      self.f = self.he"
      ],
      "execution_count": 0,
      "outputs": []
    },
    {
      "metadata": {
        "id": "coc2QCMsn63E",
        "colab_type": "code",
        "colab": {}
      },
      "cell_type": "code",
      "source": [
        "def calc_MSE(y, y_hat):\n",
        "  error = y-y_hat\n",
        "  return np.mean(np.sum(error**2, axis=1))\n",
        "\n",
        "def labels_from_preds(preds):\n",
        "  return np.argmax(preds, axis=1)\n",
        "\n",
        "def calc_accuracy(labels, target):\n",
        "  return np.sum(labels == target) / len(target)\n",
        "\n",
        "#wasn't sure if we could use a package to shuffle so found this code: https://stackoverflow.com/questions/4601373/better-way-to-shuffle-two-numpy-arrays-in-unison\n",
        "def shuffle_in_unison(a, b):\n",
        "    assert len(a) == len(b)\n",
        "    shuffled_a = np.empty(a.shape, dtype=a.dtype)\n",
        "    shuffled_b = np.empty(b.shape, dtype=b.dtype)\n",
        "    permutation = np.random.permutation(len(a))\n",
        "    for old_index, new_index in enumerate(permutation):\n",
        "        shuffled_a[new_index] = a[old_index]\n",
        "        shuffled_b[new_index] = b[old_index]\n",
        "    return shuffled_a, shuffled_b\n",
        "  \n",
        "  "
      ],
      "execution_count": 0,
      "outputs": []
    },
    {
      "metadata": {
        "id": "JbRDaYgyBsh8",
        "colab_type": "text"
      },
      "cell_type": "markdown",
      "source": [
        "The function for ReLU\n",
        "\n",
        "\n",
        "$ f(x) = \\begin{cases}\n",
        "    x & \\mbox{if } x > 0 \\\\\n",
        "    0 & \\mbox{otherwise}\n",
        "\\end{cases}$\n",
        "\n",
        "The function for ReLU's derivative\n",
        "\n",
        "$ f(x) = \\begin{cases}\n",
        "    1 & \\mbox{if } x > 0 \\\\\n",
        "    0 & \\mbox{otherwise}\n",
        "\\end{cases}$\n",
        "\n",
        "\n",
        "The function for Leaky ReLU\n",
        "\n",
        "\n",
        "$ f(x) = \\begin{cases}\n",
        "    x & \\mbox{if } x > 0 \\\\\n",
        "    0.01x & \\mbox{otherwise}\n",
        "\\end{cases}$\n",
        "\n",
        "The function for Leaky ReLU's derivative\n",
        "\n",
        "$ f(x) = \\begin{cases}\n",
        "    1 & \\mbox{if } x > 0 \\\\\n",
        "    0.01 & \\mbox{otherwise}\n",
        "\\end{cases}$\n"
      ]
    },
    {
      "metadata": {
        "id": "kYXDLyEWGG2r",
        "colab_type": "code",
        "colab": {}
      },
      "cell_type": "code",
      "source": [
        "from scipy.special import softmax\n",
        "\n",
        "class Activation(object):\n",
        "    def tanh(self, x):\n",
        "        return np.tanh(x)\n",
        "\n",
        "    def tanh_deriv(self, a):\n",
        "        # a = np.tanh(x)   \n",
        "        return 1.0 - a**2\n",
        "    def logistic(self, x):\n",
        "        return 1.0 / (1.0 + np.exp(-x))\n",
        "\n",
        "    def logistic_deriv(self, a):\n",
        "        # a = logistic(x) \n",
        "        return  a * (1 - a )\n",
        "      \n",
        "    def ReLU(self, x):\n",
        "        x[x<0] =0\n",
        "        return x\n",
        "      \n",
        "    def ReLU_deriv(self, a):\n",
        "        der = np.zeros(a.shape)\n",
        "        der[a>0] =1\n",
        "        return der\n",
        "      \n",
        "    def leaky_ReLU(self, x):\n",
        "        x = np.where(x > 0, x, x*0.01)\n",
        "        return x\n",
        "      \n",
        "    def leaky_ReLU_deriv(self, a):\n",
        "        der = np.full(a.shape, 0.01)\n",
        "        der[a>0] =1\n",
        "        return der\n",
        "      \n",
        "    def softmax(self, x):\n",
        "        # apply max normalization to avoid overflow\n",
        "        if len(x.shape) > 1:\n",
        "          x_norm = (x.T - np.max(x, axis=1)).T\n",
        "          return softmax(x_norm, axis=1)\n",
        "        else:\n",
        "          x_norm = x - np.max(x)\n",
        "          return softmax(x_norm)\n",
        "      \n",
        "    def softmax_deriv(self, a):\n",
        "        return np.ones(a.shape)\n",
        "    \n",
        "    def __init__(self,activation='tanh'):\n",
        "        if activation == 'logistic':\n",
        "            self.f = self.logistic\n",
        "            self.f_deriv = self.logistic_deriv\n",
        "        elif activation == 'tanh':\n",
        "            self.f = self.tanh\n",
        "            self.f_deriv = self.tanh_deriv\n",
        "        elif activation == 'relu':\n",
        "            self.f = self.ReLU\n",
        "            self.f_deriv = self.ReLU_deriv\n",
        "        elif activation == 'leaky_relu':\n",
        "            self.f = self.leaky_ReLU\n",
        "            self.f_deriv = self.leaky_ReLU_deriv\n",
        "        elif activation == 'softmax':\n",
        "            self.f = self.softmax\n",
        "            self.f_deriv = self.softmax_deriv\n",
        "            "
      ],
      "execution_count": 0,
      "outputs": []
    },
    {
      "metadata": {
        "id": "HbjWqZ24L3Ot",
        "colab_type": "code",
        "colab": {}
      },
      "cell_type": "code",
      "source": [
        "class Loss_function(object):\n",
        "    def MSE(self, y, y_hat):\n",
        "        error = y-y_hat\n",
        "        loss=np.sum(error**2)\n",
        "        return loss\n",
        "      \n",
        "    def Cross_entropy(self, y, y_hat):\n",
        "        return -np.log(y_hat[np.argmax(y)])\n",
        "      \n",
        "    def l2_reg(self, reg_weight, layers, sample_weight):\n",
        "        accum = 0\n",
        "        for layer in layers:\n",
        "          accum += np.sum(np.square(layer.W))\n",
        "          \n",
        "        return accum*reg_weight*sample_weight/2\n",
        "        \n",
        "    def __init__(self,loss='cross_entropy'):\n",
        "        if loss == 'MSE':\n",
        "            self.loss = self.MSE\n",
        "        elif loss == 'cross_entropy':\n",
        "            self.loss = self.Cross_entropy"
      ],
      "execution_count": 0,
      "outputs": []
    },
    {
      "metadata": {
        "id": "BeoakGoCGLvb",
        "colab_type": "code",
        "colab": {}
      },
      "cell_type": "code",
      "source": [
        "\n",
        "class HiddenLayer(object):    \n",
        "    def __init__(self,n_in, n_out,\n",
        "                 activation_last_layer='tanh',activation='tanh', W=None, b=None,\n",
        "                init_uniform=True, weight_decay=None, last_layer=False):\n",
        "        \"\"\"\n",
        "        Typical hidden layer of a MLP: units are fully-connected and have\n",
        "        sigmoidal activation function. Weight matrix W is of shape (n_in,n_out)\n",
        "        and the bias vector b is of shape (n_out,).\n",
        "\n",
        "        NOTE : The nonlinearity used here is tanh\n",
        "\n",
        "        Hidden unit activation is given by: tanh(dot(input,W) + b)\n",
        "\n",
        "        :type n_in: int\n",
        "        :param n_in: dimensionality of input\n",
        "\n",
        "        :type n_out: int\n",
        "        :param n_out: number of hidden units\n",
        "\n",
        "        :type activation: string\n",
        "        :param activation: Non linearity to be applied in the hidden\n",
        "                           layer\n",
        "        :type init_uniform: bool\n",
        "        :param init_uniform: Whether to draw init weights from uniform dist (else normal)\n",
        "        \n",
        "        :type weight_decay: float/None/False\n",
        "        :param weight_decay: Weight to apply to l2 reg loss factor (else none/false)\n",
        "        \"\"\"\n",
        "        self.input=None\n",
        "        self.dropout_cache=None\n",
        "        self.activation=Activation(activation).f\n",
        "        self.last_layer=last_layer\n",
        "        \n",
        "        if activation=='relu':\n",
        "          self.init_weights = InitWeights(\"he\").f\n",
        "        else:\n",
        "          self.init_weights = InitWeights(\"xavier\").f\n",
        "        \n",
        "        # activation deriv of last layer\n",
        "        self.activation_deriv=None\n",
        "        if activation_last_layer:\n",
        "            self.activation_deriv=Activation(activation_last_layer).f_deriv\n",
        "\n",
        "        if W is not None:\n",
        "          self.W = W\n",
        "        else:\n",
        "          self.W = self.init_weights(n_in, n_out, init_uniform)\n",
        "\n",
        "        if b is not None:\n",
        "          self.b = b\n",
        "        else:\n",
        "          self.b = np.zeros(n_out,)  \n",
        "          \n",
        "        self.weight_decay = weight_decay\n",
        "          \n",
        "        self.grad_W = np.zeros(self.W.shape)\n",
        "        self.grad_b = np.zeros(self.b.shape)\n",
        "        \n",
        "        # create arrays to store the velocity values for momentum calculation\n",
        "        self.vW = np.zeros(self.W.shape)\n",
        "        self.vb = np.zeros(self.b.shape)\n",
        "        \n",
        "        # Create arrays to store the gamma and beta values for batch norm. @\n",
        "        self.gamma = np.zeros(n_out,)\n",
        "        self.beta = np.zeros(n_out,)\n",
        "        \n",
        "        self.grad_gamma = np.zeros(self.gamma.shape,)\n",
        "        self.grad_beta = np.zeros(self.beta.shape,)\n",
        "    \n",
        "    def dropout(self, nodes, probability):\n",
        "        #This distribution decides what nodes will be on or not. We then rescale the on nodes proportionally to the probability that it is off.\n",
        "        \n",
        "        active_nodes = np.random.binomial(1, probability, size=nodes.shape) / probability\n",
        "        output = np.multiply(nodes, active_nodes)\n",
        "        return output, active_nodes\n",
        "    \n",
        "    def forward(self, input, probability):\n",
        "        '''\n",
        "        :type input: numpy.array\n",
        "        :param input: a symbolic tensor of shape (n_in,)\n",
        "        '''\n",
        "        lin_output = np.dot(input, self.W) + self.b\n",
        "        self.output = (\n",
        "            lin_output if self.activation is None\n",
        "            else self.activation(lin_output)\n",
        "        )\n",
        "        self.input=input\n",
        "        \n",
        "        if self.last_layer:\n",
        "            probability=1\n",
        "        \n",
        "        self.output, self.dropout_cache = self.dropout(self.output, probability)\n",
        "        return self.output\n",
        "    \n",
        "    def backward(self, delta, output_layer=False, sampleweight=1):\n",
        "        delta *= self.dropout_cache\n",
        "        self.grad_W = np.atleast_2d(self.input).T.dot(np.atleast_2d(delta))\n",
        "        \n",
        "        if self.weight_decay:\n",
        "            self.grad_W += self.W * self.weight_decay * sampleweight\n",
        "        self.grad_b = np.sum(delta, axis=0)\n",
        "        if self.activation_deriv:\n",
        "            delta = delta.dot(self.W.T) * self.activation_deriv(self.input)\n",
        "        return delta\n",
        "      \n",
        "    def forward_BN(self, input, probability):\n",
        "        '''\n",
        "        :type input: numpy.array\n",
        "        :param input: a symbolic tensor of shape (n_in,)\n",
        "        gamma: parameter to be learned\n",
        "        beta: parameter to be learned\n",
        "        '''\n",
        "        lin_output = np.dot(input, self.W) # Removed bias because it is forced to zero when normalizing ~(0,1) @\n",
        "        \n",
        "        # Can apply batch norm before or after activation function: https://www.reddit.com/r/MachineLearning/comments/67gonq/d_batch_normalization_before_or_after_relu/ @\n",
        "        mu = np.mean(lin_output, axis=0) # Calculate the mean of each feature.\n",
        "        var = np.var(lin_output, axis=0) # Calculat the variance of each feature.    \n",
        "                \n",
        "        lin_output_norm = (lin_output - mu) / np.sqrt(var + 1e-8) # Normalise. Note the 1e-8 used incase var = 0.  \n",
        "        lin_output_norm = self.gamma * lin_output_norm + self.beta # Add gamma and beta so the mean and vairaince of distribution can be tuned.\n",
        "        \n",
        "        self.cache = (lin_output, lin_output_norm, mu, var)  # Store values for back propogation.   \n",
        "                      \n",
        "        self.output = (\n",
        "            lin_output_norm if self.activation is None\n",
        "            else self.activation(lin_output_norm)\n",
        "        )\n",
        "        self.input=input # I'm not sure what this does? @\n",
        "        \n",
        "        if self.last_layer:\n",
        "            probability=1\n",
        "        \n",
        "        self.output, self.dropout_cache = self.dropout(self.output, probability)\n",
        "        return self.output                                       \n",
        "\n",
        "    def backward_BN(self, delta, dy_hat, output_layer=False, sampleweight=1):\n",
        "      \n",
        "        # Unpack cache variables\n",
        "        X, X_norm, mu, var = self.cache\n",
        "        \n",
        "        # Define variables to make back prop clearer\n",
        "        n_in, n_dims = X.shape\n",
        "        \n",
        "        X_mu = X - mu\n",
        "        std_inv = 1 / np.sqrt(var + 1e-8)\n",
        "        \n",
        "        # Back prop step by step for clarity. I followed this procedure: https://wiseodd.github.io/techblog/2016/07/04/batchnorm/\n",
        "        # Can also condense into a single calculation like this: https://cthorey.github.io/backpropagation/\n",
        "        dX_norm = delta * self.gamma\n",
        "        dvar = np.sum(dX_norm * X_mu, axis=0) * -0.5 * std_inv**3\n",
        "        dmu = np.sum(dX_norm * -std_inv, axis=0) + dvar * np.mean(-2. * X_mu, axis=0)\n",
        "  \n",
        "        self.grad_W = (dX_norm * std_inv) + (dvar * 2 * X_mu / n_in) + (dmu / n_in)\n",
        "\n",
        "        self.grad_gamma = np.sum(delta * X_norm, axis=0)\n",
        "        self.grad_beta = np.sum(delta, axis=0)            \n",
        "        \n",
        "        if self.weight_decay:\n",
        "          self.grad_W += self.W * self.weight_decay * sampleweight      \n",
        "        \n",
        "        if self.activation_deriv:\n",
        "            delta = delta.dot(self.W.T) * self.activation_deriv(self.input)\n",
        "        return delta\n",
        "      "
      ],
      "execution_count": 0,
      "outputs": []
    },
    {
      "metadata": {
        "id": "_LKgiGhdGQbS",
        "colab_type": "code",
        "colab": {}
      },
      "cell_type": "code",
      "source": [
        "\n",
        "class MLP:\n",
        "    \"\"\"\n",
        "    \"\"\"      \n",
        "    def __init__(self, layers=None, activation=[None,'tanh','tanh'], init_uniform=True, weight_decay=False, from_file=None):\n",
        "        \"\"\"\n",
        "        :param layers: A list containing the number of units in each layer.\n",
        "        Should be at least two values\n",
        "        :param activation: The activation function to be used. Can be\n",
        "        \"logistic\" or \"tanh\"\n",
        "        :param init_uniform: Whether to draw init weights from uniform dist (else normal)\n",
        "        :param weight_decay: lambda for strength of l2 regularization on weights (else False/None for no reg)\n",
        "        :param from_file: a file to load to get pretrained weights. \n",
        "        \"\"\"        \n",
        "        ### initialize layers\n",
        "        self.layers=[]\n",
        "        self.params= {'activation':activation, 'layers':layers, 'weight_decay': weight_decay, 'init_uniform': init_uniform}\n",
        "        \n",
        "        self.es_epochs=None\n",
        "        if from_file:\n",
        "          dumped_model = self._load_model(from_file)\n",
        "          self.params = dumped_model['params']\n",
        "          self.activation=self.params['activation']\n",
        "          layers = self.params['layers']\n",
        "          init_uniform = self.params['init_uniform']\n",
        "          for i in range(len(self.params['layers'])-1):\n",
        "              if i==len(self.params['layers'])-2:\n",
        "                self.layers.append(HiddenLayer(layers[i],layers[i+1],activation[i],activation[i+1],  \n",
        "                                              W=dumped_model['weights'][i][0], b=dumped_model['weights'][i][1], weight_decay=weight_decay, init_uniform=init_uniform,last_layer=True))\n",
        "              else:\n",
        "                self.layers.append(HiddenLayer(layers[i],layers[i+1],activation[i],activation[i+1],  \n",
        "                                              W=dumped_model['weights'][i][0], b=dumped_model['weights'][i][1], weight_decay=weight_decay, init_uniform=init_uniform))\n",
        "        else:\n",
        "          self.activation=activation\n",
        "          for i in range(len(layers)-1):\n",
        "              if i==len(layers)-2:\n",
        "                self.layers.append(HiddenLayer(layers[i],layers[i+1],activation[i],activation[i+1], weight_decay=weight_decay, init_uniform=init_uniform,last_layer=True))\n",
        "              else:\n",
        "                self.layers.append(HiddenLayer(layers[i],layers[i+1],activation[i],activation[i+1], weight_decay=weight_decay, init_uniform=init_uniform))\n",
        "    \n",
        "    def forward(self,input, dropout_p=1):\n",
        "        for layer in self.layers:\n",
        "            output=layer.forward(input, dropout_p)\n",
        "            input=output\n",
        "        return output\n",
        "    \n",
        "    #@ Can combine this with forward above with an if statement. Just wanted to keep separte for now until I know it works.\n",
        "    def Forward_BN(self,input, dropout_p=1):\n",
        "        for layer in self.layers:\n",
        "            output =layer.forward_BN(input, dropout_p)\n",
        "            input=output\n",
        "        return output\n",
        "      \n",
        "    def set_early_stopping(self, validation, validation_labels, num_epochs=10):\n",
        "        # for early stopping\n",
        "        self.validation = validation\n",
        "        self.validation_labels = labels_from_preds(validation_labels)\n",
        "        self.es_epochs = num_epochs\n",
        "      \n",
        "    def calculate_loss(self,y,y_hat):\n",
        "        activation_deriv=Activation(self.activation[-1]).f_deriv\n",
        "        # call to loss function\n",
        "        loss=[]\n",
        "        delta=[]\n",
        "        dy_hat=[] # store derivative of output for use in BN_backward @\n",
        "\n",
        "        for i, single_y in enumerate(y):\n",
        "          loss.append(Loss_function('MSE').loss(single_y, y_hat[i]))\n",
        "          error = single_y-y_hat[i]\n",
        "          # calculate the delta of the output layer\n",
        "          delta.append(np.array(-error*activation_deriv(y_hat[i])))\n",
        "        # return loss and delta\n",
        "        loss = np.array(loss)\n",
        "        if self.params['weight_decay']:\n",
        "          loss += Loss_function().l2_reg(self.params['weight_decay'], self.layers, len(y)/self.Xcount)\n",
        "\n",
        "        return loss,np.array(delta)\n",
        "      \n",
        "    def calculate_loss_BN(self,y,y_hat):\n",
        "        activation_deriv=Activation(self.activation[-1]).f_deriv\n",
        "        # call to loss function\n",
        "        loss=[]\n",
        "        delta=[]\n",
        "        dy_hat=[] # store derivative of output for use in BN_backward @\n",
        "\n",
        "        for i, single_y in enumerate(y):\n",
        "          loss.append(Loss_function('MSE').loss(single_y, y_hat[i]))\n",
        "          error = single_y-y_hat[i]\n",
        "          # calculate the derivative of the output layer @\n",
        "          dy_hat.append(np.array(activation_deriv(y_hat[i])))\n",
        "          # calculate the delta of the output layer\n",
        "          delta.append(np.array(-error*activation_deriv(y_hat[i])))\n",
        "        # return loss and delta\n",
        "        loss = np.array(loss)\n",
        "        if self.params['weight_decay']:\n",
        "          loss += Loss_function().l2_reg(self.params['weight_decay'], self.layers, len(y)/self.Xcount)\n",
        "\n",
        "        return loss,np.array(delta), np.array(dy_hat) #@\n",
        "        \n",
        "    def backward(self,delta, sampleweight):\n",
        "        delta=self.layers[-1].backward(delta,output_layer=True, sampleweight=sampleweight)\n",
        "        for layer in reversed(self.layers[:-1]):\n",
        "            delta=layer.backward(delta, sampleweight=sampleweight)\n",
        "    \n",
        "    #@ can combine this with backwards above with an if statement. Just wanted to keep separte for now until I know it works.\n",
        "    def Backward_BN(self, delta, dy_hat, sampleweight):\n",
        "        delta =self.layers[-1].backward_BN(delta, dy_hat, output_layer=True, sampleweight=sampleweight)\n",
        "        for layer in reversed(self.layers[:-1]):\n",
        "            delta =layer.backward_BN(delta, dy_hat, sampleweight=sampleweight)                 \n",
        "            \n",
        "    def update(self,lr):\n",
        "        for layer in self.layers:\n",
        "            layer.W -= lr * layer.grad_W\n",
        "            layer.b -= lr * layer.grad_b\n",
        "            \n",
        "    def update_momentum(self, lr, mom):\n",
        "        for layer in self.layers:\n",
        "            layer.vW = mom * layer.vW + lr * layer.grad_W\n",
        "            layer.vb = mom * layer.vb + lr * layer.grad_b\n",
        "            layer.W -= layer.vW\n",
        "            layer.b -= layer.vb \n",
        "            \n",
        "    def update_BN(self,lr):\n",
        "        for layer in self.layers:\n",
        "            layer.W -= lr * layer.grad_W\n",
        "            layer.b -= lr * layer.grad_b\n",
        "            layer.gamma -= lr * layer.grad_gamma\n",
        "            layer.beta -= lr * layer.grad_beta     \n",
        "\n",
        "    def fit(self,X,y,learning_rate=0.1, epochs=100, dropout_p=1):\n",
        "        \"\"\"\n",
        "        Online learning.\n",
        "        :param X: Input data or features\n",
        "        :param y: Input targets\n",
        "        :param learning_rate: parameters defining the speed of learning\n",
        "        :param epochs: number of times the dataset is presented to the network for learning\n",
        "        \"\"\" \n",
        "        X=np.array(X)\n",
        "        y=np.array(y)\n",
        "        to_return = np.zeros(epochs)\n",
        "        self.Xcount = len(X)\n",
        "        if self.es_epochs:\n",
        "            validation_acc = np.zeros(epochs)\n",
        "        for k in range(epochs):\n",
        "            #print('epoch', k)\n",
        "            loss=np.zeros(X.shape[0])\n",
        "            for it in range(X.shape[0]):\n",
        "                i=np.random.randint(X.shape[0])\n",
        "                \n",
        "                # forward pass\n",
        "                y_hat = self.forward(X[i], dropout_p)\n",
        "                # backward pass\n",
        "                loss[it],delta=self.calculate_loss([y[i]],[y_hat])\n",
        "                self.backward(delta, 1/self.Xcount)\n",
        "                # update\n",
        "                self.update(learning_rate)\n",
        "            to_return[k] = np.mean(loss)\n",
        "            if not k % 10:\n",
        "              print(\".\", end=\"\")\n",
        "            if self.es_epochs:\n",
        "              preds = self.predict(self.validation)\n",
        "              validation_acc[k] = calc_accuracy(labels_from_preds(preds), self.validation_labels)\n",
        "              if k - np.argmax(validation_acc) > self.es_epochs:\n",
        "                print(\"Haven't improved accuracy on validation set in {} epochs, stopping\".format(self.es_epochs))\n",
        "                break\n",
        "        return to_return\n",
        "      \n",
        "    def fit_mb(self,X,y,mini_batch_size,learning_rate=0.1, epochs=100, dropout_p=1):\n",
        "        \"\"\"\n",
        "        Online learning.\n",
        "        :param X: Input data or features\n",
        "        :param y: Input targets\n",
        "        :param learning_rate: parameters defining the speed of learning\n",
        "        :param epochs: number of times the dataset is presented to the network for learning\n",
        "        :param early_stop: int: stop if haven't improved in this many epochs\n",
        "        \"\"\" \n",
        "        X=np.array(X)\n",
        "        y=np.array(y)\n",
        "        to_return = np.zeros(epochs) #array to store values of mean loss for each epoch for plotting later\n",
        "        if self.es_epochs:\n",
        "            validation_acc = np.zeros(epochs)\n",
        "        self.Xcount = len(X)\n",
        "        \n",
        "        for k in range(epochs): #for each epoch\n",
        "            X, y = shuffle_in_unison(X, y) #shuffle the input data and input targets\n",
        "            loss=np.zeros(X.shape[0]) #create array of zeros whose lengths = #samples.\n",
        "            \n",
        "            #partition training data (X, y) into mini-batches\n",
        "            for j in range(0, X.shape[0], mini_batch_size):\n",
        "              X_mini = X[j:j + mini_batch_size]\n",
        "              y_mini = y[j:j + mini_batch_size]\n",
        "              # forward pass\n",
        "              y_hat = self.forward(X_mini, dropout_p) #forward feed the mini_batches to get outputs (y_hat)\n",
        "              \n",
        "              # backwards pass\n",
        "              loss[j:j + mini_batch_size], delta=self.calculate_loss(y[j:j + mini_batch_size], y_hat) #input y and y_hat into calculate_loss. Output = loss and delta\n",
        "              self.backward(delta, mini_batch_size/self.Xcount) #pass delta from calculate_loss to backward.\n",
        "\n",
        "              # update\n",
        "              self.update(learning_rate)\n",
        "            to_return[k] = np.mean(loss) #add mean loss to to_return\n",
        "            if not k % 10:\n",
        "              print(\".\", end=\"\")\n",
        "            if self.es_epochs:\n",
        "              preds = self.predict(self.validation)\n",
        "              validation_acc[k] = calc_accuracy(labels_from_preds(preds), self.validation_labels)\n",
        "              if k - np.argmax(validation_acc) > self.es_epochs:\n",
        "                print(\"Haven't improved accuracy on validation set in {} epochs, stopping\".format(self.es_epochs))\n",
        "                break\n",
        "              \n",
        "        return to_return[:k]\n",
        "      \n",
        "    def fit_mb_BN(self,X,y,mini_batch_size,learning_rate=0.1, epochs=100, dropout_p=1):\n",
        "        \"\"\"\n",
        "        Online learning.\n",
        "        :param X: Input data or features\n",
        "        :param y: Input targets\n",
        "        :param learning_rate: parameters defining the speed of learning\n",
        "        :param epochs: number of times the dataset is presented to the network for learning\n",
        "        :param early_stop: int: stop if haven't improved in this many epochs\n",
        "        \"\"\" \n",
        "        X=np.array(X)\n",
        "        y=np.array(y)\n",
        "        to_return = np.zeros(epochs) #array to store values of mean loss for each epoch for plotting later\n",
        "        if self.es_epochs:\n",
        "            validation_acc = np.zeros(epochs)\n",
        "        self.Xcount = len(X)\n",
        "        \n",
        "        for k in range(epochs): #for each epoch\n",
        "            X, y = shuffle_in_unison(X, y) #shuffle the input data and input targets\n",
        "            loss=np.zeros(X.shape[0]) #create array of zeros whose lengths = #samples.\n",
        "            \n",
        "            #partition training data (X, y) into mini-batches\n",
        "            for j in range(0, X.shape[0], mini_batch_size):\n",
        "              X_mini = X[j:j + mini_batch_size]\n",
        "              y_mini = y[j:j + mini_batch_size]\n",
        "              # forward pass\n",
        "              y_hat = self.Forward_BN(X_mini, dropout_p) #forward feed the mini_batches to get outputs (y_hat)\n",
        "              \n",
        "              # backwards pass\n",
        "              loss[j:j + mini_batch_size], delta, dy_hat=self.calculate_loss_BN(y[j:j + mini_batch_size], y_hat) #input y and y_hat into calculate_loss. Output = loss and delta\n",
        "              self.Backward_BN(delta, dy_hat, mini_batch_size/self.Xcount) #pass delta from calculate_loss to backward.\n",
        "\n",
        "              # update\n",
        "              self.update_BN(learning_rate)\n",
        "            to_return[k] = np.mean(loss) #add mean loss to to_return\n",
        "            if not k % 10:\n",
        "              print(\".\", end=\"\")\n",
        "            if self.es_epochs:\n",
        "              preds = self.predict(self.validation)\n",
        "              validation_acc[k] = calc_accuracy(labels_from_preds(preds), self.validation_labels)\n",
        "              if k - np.argmax(validation_acc) > self.es_epochs:\n",
        "                print(\"Haven't improved accuracy on validation set in {} epochs, stopping\".format(self.es_epochs))\n",
        "                break\n",
        "              \n",
        "        return to_return[:k]\n",
        "      \n",
        "    def fit_SGD_momentum(self,X,y,learning_rate=0.1, epochs=100, momentum=0.9, dropout_p=1):\n",
        "        \"\"\"\n",
        "        Online learning.\n",
        "        :param X: Input data or features\n",
        "        :param y: Input targets\n",
        "        :param learning_rate: parameters defining the speed of learning\n",
        "        :param epochs: number of times the dataset is presented to the network for learning\n",
        "        \"\"\" \n",
        "        X=np.array(X)\n",
        "        y=np.array(y)\n",
        "        to_return = np.zeros(epochs)\n",
        "        self.Xcount = len(X)\n",
        "        if self.es_epochs:\n",
        "            validation_acc = np.zeros(epochs)\n",
        "        for k in range(epochs):\n",
        "            loss=np.zeros(X.shape[0])\n",
        "            \n",
        "            # loop through training examples\n",
        "            for j in range(X.shape[0]):\n",
        "              i=np.random.randint(X.shape[0])\n",
        "                \n",
        "              # forward pass\n",
        "              y_hat = self.forward(X[i], dropout_p)\n",
        "                \n",
        "              # backward pass\n",
        "              loss[j],delta=self.calculate_loss([y[i]],[y_hat])\n",
        "              self.backward(delta, X.shape[0]/self.Xcount)\n",
        "                \n",
        "              # update\n",
        "              self.update_momentum(learning_rate, momentum)\n",
        "            to_return[k] = np.mean(loss)\n",
        "            if not k % 10:\n",
        "              print(\".\", end=\"\")\n",
        "            if self.es_epochs:\n",
        "              preds = self.predict(self.validation)\n",
        "              validation_acc[k] = calc_accuracy(labels_from_preds(preds), self.validation_labels)\n",
        "              if k - np.argmax(validation_acc) > self.es_epochs:\n",
        "                print(\"Haven't improved accuracy on validation set in {} epochs, stopping\".format(self.es_epochs))\n",
        "                break\n",
        "        return to_return  \n",
        "\n",
        "    def predict(self, x):\n",
        "        x = np.array(x)\n",
        "        output = []\n",
        "        for i in np.arange(x.shape[0]):\n",
        "            output.append(self.forward(x[i,:]))\n",
        "        return np.vstack(output)\n",
        "      \n",
        "\n",
        "    def save_model(self, name):\n",
        "      model = {'params':self.params, 'weights':[]}\n",
        "      for x in self.layers:\n",
        "        model['weights'].append((x.W, x.b))\n",
        "        \n",
        "      with open(model_dir.format(name), 'wb') as f:\n",
        "        pickle.dump(model, f)\n",
        "        \n",
        "    def _load_model(self, name):\n",
        "      with open(model_dir.format(name), 'rb') as f:\n",
        "        return pickle.load(f)"
      ],
      "execution_count": 0,
      "outputs": []
    },
    {
      "metadata": {
        "id": "2dTOURCJ0Uub",
        "colab_type": "code",
        "outputId": "481ce339-39f4-4fe2-e163-7e562b2d3c33",
        "colab": {
          "base_uri": "https://localhost:8080/",
          "height": 143
        }
      },
      "cell_type": "code",
      "source": [
        "#Random Search Grid Generator\n",
        "import random\n",
        "\n",
        "no_samples = 10\n",
        "# Initilization (uniform, normal)\n",
        "init = ['uni', 'norm']\n",
        "init_sample = random.choices(init, k = no_samples)\n",
        "\n",
        "# Dropout (1, 0.8, )\n",
        "drop = [1, 0.8, 0.6, 0.4, 0.2]\n",
        "drop_sample = random.choices(drop, k = no_samples)\n",
        "\n",
        "# Activation function (Sigmoid+Tanh, reLU+softmax)\n",
        "af = ['Sig+Tanh', 'reLU+SM']\n",
        "af_sample = random.choices(af, k = no_samples)\n",
        "\n",
        "# Batch norm (Y/N)\n",
        "BN = ['y', 'n']\n",
        "BN_sample = random.choices(BN, k = no_samples)\n",
        "\n",
        "# Weight decay (0, 0.05, 0.1)\n",
        "weight_decay = [0, 0.05, 0.1]\n",
        "wd_sample = random.choices(weight_decay, k = no_samples)\n",
        "\n",
        "# Learning rate (0.01, 0.1, 0.5)\n",
        "LR = [0.01, 0.1, 0.5]\n",
        "LR_sample = random.choices(LR, k = no_samples)\n",
        "\n",
        "random_grid = np.vstack((init_sample, drop_sample, af_sample, BN_sample, wd_sample, LR_sample))\n",
        "print(random_grid)"
      ],
      "execution_count": 0,
      "outputs": [
        {
          "output_type": "stream",
          "text": [
            "[['uni' 'norm' 'norm' 'uni' 'uni' 'norm' 'norm' 'norm' 'uni' 'uni']\n",
            " ['0.4' '0.4' '0.4' '0.4' '0.2' '0.8' '0.8' '0.4' '0.2' '0.4']\n",
            " ['Sig+Tanh' 'Sig+Tanh' 'Sig+Tanh' 'Sig+Tanh' 'Sig+Tanh' 'reLU+SM'\n",
            "  'Sig+Tanh' 'Sig+Tanh' 'Sig+Tanh' 'reLU+SM']\n",
            " ['n' 'y' 'n' 'y' 'n' 'y' 'y' 'y' 'y' 'y']\n",
            " ['0.0' '0.05' '0.0' '0.0' '0.0' '0.1' '0.1' '0.0' '0.1' '0.0']\n",
            " ['0.01' '0.01' '0.1' '0.1' '0.5' '0.5' '0.01' '0.01' '0.5' '0.01']]\n"
          ],
          "name": "stdout"
        }
      ]
    },
    {
      "metadata": {
        "id": "DOPAt_9nGd5y",
        "colab_type": "code",
        "outputId": "aee18ad1-25bf-43ea-e875-81a8434659b5",
        "colab": {
          "base_uri": "https://localhost:8080/",
          "height": 71
        }
      },
      "cell_type": "code",
      "source": [
        "\n",
        "np.seterr(all=\"warn\")\n",
        "np.random.seed(1)\n",
        "procdata = np.copy(data)\n",
        "preprocess(procdata, 'zscore')\n",
        "\n",
        "#split data\n",
        "train, train_target, validate, validate_target = split(procdata, label)\n",
        "#one hot encode targets\n",
        "train_target = OHE(train_target, 10)\n",
        "validate_target = OHE(validate_target, 10)\n",
        "\n",
        "relu = True\n",
        "\n",
        "if relu:\n",
        "  nn = MLP([128,99,69,10], [None,'relu','relu', 'softmax'])\n",
        "  nn.set_early_stopping(validate, validate_target, 10)\n",
        "  start = time.time()\n",
        "  MSE = nn.fit_mb(train, train_target, learning_rate=0.01, epochs=500, mini_batch_size=32)\n",
        "  print(\"{}s to train\".format(time.time() - start))\n",
        "else:\n",
        "  nn = MLP([128,60,10], [None,'logistic','tanh'], init_uniform=False, weight_decay=0.5)\n",
        "  start = time.time()\n",
        "  MSE = nn.fit_mb(train, train_target, learning_rate=0.01, epochs=500, mini_batch_size=32)\n",
        "  print(\"{}s to train\".format(time.time() - start))\n",
        "print('loss:%f'%MSE[-1])"
      ],
      "execution_count": 0,
      "outputs": [
        {
          "output_type": "stream",
          "text": [
            "..Haven't improved accuracy on validation set in 10 epochs, stopping\n",
            "76.21911907196045s to train\n",
            "loss:0.111792\n"
          ],
          "name": "stdout"
        }
      ]
    },
    {
      "metadata": {
        "id": "-U-Uf7i9YX9t",
        "colab_type": "code",
        "outputId": "0604b5a9-23c4-48d5-cdc8-33ca4042994d",
        "colab": {
          "base_uri": "https://localhost:8080/",
          "height": 269
        }
      },
      "cell_type": "code",
      "source": [
        "pl.figure(figsize=(15,4))\n",
        "pl.plot(MSE)\n",
        "pl.grid()"
      ],
      "execution_count": 0,
      "outputs": [
        {
          "output_type": "display_data",
          "data": {
            "image/png": "[encoded data removed]",
            "text/plain": [
              "<Figure size 1080x288 with 1 Axes>"
            ]
          },
          "metadata": {
            "tags": []
          }
        }
      ]
    },
    {
      "metadata": {
        "id": "oAAnBZZ97anF",
        "colab_type": "code",
        "colab": {}
      },
      "cell_type": "code",
      "source": [
        ""
      ],
      "execution_count": 0,
      "outputs": []
    },
    {
      "metadata": {
        "id": "ms28tiW02uzz",
        "colab_type": "code",
        "outputId": "960d6453-2a90-42c9-ecec-bd3b18c37c15",
        "colab": {
          "base_uri": "https://localhost:8080/",
          "height": 35
        }
      },
      "cell_type": "code",
      "source": [
        "#get validation score\n",
        "#nn = load_model(\"tdm1\")\n",
        "preds = nn.predict(validate)\n",
        "\n",
        "loss = calc_MSE(preds, validate_target)\n",
        "calc_accuracy(labels_from_preds(preds), labels_from_preds(validate_target)) # we have to de-OHE the predictions and the target data"
      ],
      "execution_count": 0,
      "outputs": [
        {
          "output_type": "execute_result",
          "data": {
            "text/plain": [
              "0.8725555555555555"
            ]
          },
          "metadata": {
            "tags": []
          },
          "execution_count": 18
        }
      ]
    },
    {
      "metadata": {
        "id": "Chank-E-im1p",
        "colab_type": "code",
        "outputId": "9b3e36c2-9ffc-4713-fe7e-7426e5430282",
        "colab": {
          "base_uri": "https://localhost:8080/",
          "height": 35
        }
      },
      "cell_type": "code",
      "source": [
        "nn.save_model(\"relu.1\")\n",
        "\n",
        "calc_accuracy(labels_from_preds(preds), labels_from_preds(validate_target)) # we have to de-OHE the predictions and the target data"
      ],
      "execution_count": 0,
      "outputs": [
        {
          "output_type": "execute_result",
          "data": {
            "text/plain": [
              "0.8725555555555555"
            ]
          },
          "metadata": {
            "tags": []
          },
          "execution_count": 19
        }
      ]
    },
    {
      "metadata": {
        "id": "VPIf-BuaBzlC",
        "colab_type": "code",
        "colab": {}
      },
      "cell_type": "code",
      "source": [
        "\n"
      ],
      "execution_count": 0,
      "outputs": []
    },
    {
      "metadata": {
        "id": "CauivsamljjX",
        "colab_type": "code",
        "outputId": "246b2d67-e60a-4ee9-d03e-3956e256df0e",
        "colab": {
          "base_uri": "https://localhost:8080/",
          "height": 394
        }
      },
      "cell_type": "code",
      "source": [
        "np.seterr(all=\"warn\")\n",
        "np.random.seed(1)\n",
        "procdata = np.copy(data)\n",
        "preprocess(procdata, 'zscore')\n",
        "\n",
        "#split data\n",
        "train, train_target, validate, validate_target = split(data, label)\n",
        "#one hot encode targets\n",
        "train_target = OHE(train_target, 10)\n",
        "validate_target = OHE(validate_target, 10)\n",
        "second_layer = False\n",
        "relu = False\n",
        "if second_layer:\n",
        "  nn = MLP([128,60,30,10], [None,'logistic','logistic','tanh'])\n",
        "elif relu:\n",
        "  nn = MLP([128,60,10], [None, 'relu', 'relu'], False)\n",
        "  start = time.time()\n",
        "  MSE = nn.fit_mb_BN(train, train_target, 32, learning_rate=0.001, epochs=25, dropout_p=1)\n",
        "  print(\"{}s to train\".format(time.time() - start))\n",
        "else:\n",
        "  nn = MLP([128,60,10], [None,'logistic','tanh'], False)\n",
        "  start = time.time()\n",
        "  MSE = nn.fit_mb_BN(train, train_target, 32, learning_rate=0.01, epochs=25, dropout_p=1)\n",
        "  print(\"{}s to train\".format(time.time() - start))\n",
        "print('loss:%f'%MSE[-1])"
      ],
      "execution_count": 0,
      "outputs": [
        {
          "output_type": "error",
          "ename": "ValueError",
          "evalue": "ignored",
          "traceback": [
            "\u001b[0;31m---------------------------------------------------------------------------\u001b[0m",
            "\u001b[0;31mValueError\u001b[0m                                Traceback (most recent call last)",
            "\u001b[0;32m<ipython-input-20-c41100ed7a8e>\u001b[0m in \u001b[0;36m<module>\u001b[0;34m()\u001b[0m\n\u001b[1;32m     21\u001b[0m   \u001b[0mnn\u001b[0m \u001b[0;34m=\u001b[0m \u001b[0mMLP\u001b[0m\u001b[0;34m(\u001b[0m\u001b[0;34m[\u001b[0m\u001b[0;36m128\u001b[0m\u001b[0;34m,\u001b[0m\u001b[0;36m60\u001b[0m\u001b[0;34m,\u001b[0m\u001b[0;36m10\u001b[0m\u001b[0;34m]\u001b[0m\u001b[0;34m,\u001b[0m \u001b[0;34m[\u001b[0m\u001b[0;32mNone\u001b[0m\u001b[0;34m,\u001b[0m\u001b[0;34m'logistic'\u001b[0m\u001b[0;34m,\u001b[0m\u001b[0;34m'tanh'\u001b[0m\u001b[0;34m]\u001b[0m\u001b[0;34m,\u001b[0m \u001b[0;32mFalse\u001b[0m\u001b[0;34m)\u001b[0m\u001b[0;34m\u001b[0m\u001b[0;34m\u001b[0m\u001b[0m\n\u001b[1;32m     22\u001b[0m   \u001b[0mstart\u001b[0m \u001b[0;34m=\u001b[0m \u001b[0mtime\u001b[0m\u001b[0;34m.\u001b[0m\u001b[0mtime\u001b[0m\u001b[0;34m(\u001b[0m\u001b[0;34m)\u001b[0m\u001b[0;34m\u001b[0m\u001b[0;34m\u001b[0m\u001b[0m\n\u001b[0;32m---> 23\u001b[0;31m   \u001b[0mMSE\u001b[0m \u001b[0;34m=\u001b[0m \u001b[0mnn\u001b[0m\u001b[0;34m.\u001b[0m\u001b[0mfit_mb_BN\u001b[0m\u001b[0;34m(\u001b[0m\u001b[0mtrain\u001b[0m\u001b[0;34m,\u001b[0m \u001b[0mtrain_target\u001b[0m\u001b[0;34m,\u001b[0m \u001b[0;36m32\u001b[0m\u001b[0;34m,\u001b[0m \u001b[0mlearning_rate\u001b[0m\u001b[0;34m=\u001b[0m\u001b[0;36m0.01\u001b[0m\u001b[0;34m,\u001b[0m \u001b[0mepochs\u001b[0m\u001b[0;34m=\u001b[0m\u001b[0;36m25\u001b[0m\u001b[0;34m,\u001b[0m \u001b[0mdropout_p\u001b[0m\u001b[0;34m=\u001b[0m\u001b[0;36m1\u001b[0m\u001b[0;34m)\u001b[0m\u001b[0;34m\u001b[0m\u001b[0;34m\u001b[0m\u001b[0m\n\u001b[0m\u001b[1;32m     24\u001b[0m   \u001b[0mprint\u001b[0m\u001b[0;34m(\u001b[0m\u001b[0;34m\"{}s to train\"\u001b[0m\u001b[0;34m.\u001b[0m\u001b[0mformat\u001b[0m\u001b[0;34m(\u001b[0m\u001b[0mtime\u001b[0m\u001b[0;34m.\u001b[0m\u001b[0mtime\u001b[0m\u001b[0;34m(\u001b[0m\u001b[0;34m)\u001b[0m \u001b[0;34m-\u001b[0m \u001b[0mstart\u001b[0m\u001b[0;34m)\u001b[0m\u001b[0;34m)\u001b[0m\u001b[0;34m\u001b[0m\u001b[0;34m\u001b[0m\u001b[0m\n\u001b[1;32m     25\u001b[0m \u001b[0mprint\u001b[0m\u001b[0;34m(\u001b[0m\u001b[0;34m'loss:%f'\u001b[0m\u001b[0;34m%\u001b[0m\u001b[0mMSE\u001b[0m\u001b[0;34m[\u001b[0m\u001b[0;34m-\u001b[0m\u001b[0;36m1\u001b[0m\u001b[0;34m]\u001b[0m\u001b[0;34m)\u001b[0m\u001b[0;34m\u001b[0m\u001b[0;34m\u001b[0m\u001b[0m\n",
            "\u001b[0;32m<ipython-input-14-e030b7038ef3>\u001b[0m in \u001b[0;36mfit_mb_BN\u001b[0;34m(self, X, y, mini_batch_size, learning_rate, epochs, dropout_p)\u001b[0m\n\u001b[1;32m    243\u001b[0m \u001b[0;34m\u001b[0m\u001b[0m\n\u001b[1;32m    244\u001b[0m               \u001b[0;31m# update\u001b[0m\u001b[0;34m\u001b[0m\u001b[0;34m\u001b[0m\u001b[0;34m\u001b[0m\u001b[0m\n\u001b[0;32m--> 245\u001b[0;31m               \u001b[0mself\u001b[0m\u001b[0;34m.\u001b[0m\u001b[0mupdate_BN\u001b[0m\u001b[0;34m(\u001b[0m\u001b[0mlearning_rate\u001b[0m\u001b[0;34m)\u001b[0m\u001b[0;34m\u001b[0m\u001b[0;34m\u001b[0m\u001b[0m\n\u001b[0m\u001b[1;32m    246\u001b[0m             \u001b[0mto_return\u001b[0m\u001b[0;34m[\u001b[0m\u001b[0mk\u001b[0m\u001b[0;34m]\u001b[0m \u001b[0;34m=\u001b[0m \u001b[0mnp\u001b[0m\u001b[0;34m.\u001b[0m\u001b[0mmean\u001b[0m\u001b[0;34m(\u001b[0m\u001b[0mloss\u001b[0m\u001b[0;34m)\u001b[0m \u001b[0;31m#add mean loss to to_return\u001b[0m\u001b[0;34m\u001b[0m\u001b[0;34m\u001b[0m\u001b[0m\n\u001b[1;32m    247\u001b[0m             \u001b[0;32mif\u001b[0m \u001b[0;32mnot\u001b[0m \u001b[0mk\u001b[0m \u001b[0;34m%\u001b[0m \u001b[0;36m10\u001b[0m\u001b[0;34m:\u001b[0m\u001b[0;34m\u001b[0m\u001b[0;34m\u001b[0m\u001b[0m\n",
            "\u001b[0;32m<ipython-input-14-e030b7038ef3>\u001b[0m in \u001b[0;36mupdate_BN\u001b[0;34m(self, lr)\u001b[0m\n\u001b[1;32m    123\u001b[0m     \u001b[0;32mdef\u001b[0m \u001b[0mupdate_BN\u001b[0m\u001b[0;34m(\u001b[0m\u001b[0mself\u001b[0m\u001b[0;34m,\u001b[0m\u001b[0mlr\u001b[0m\u001b[0;34m)\u001b[0m\u001b[0;34m:\u001b[0m\u001b[0;34m\u001b[0m\u001b[0;34m\u001b[0m\u001b[0m\n\u001b[1;32m    124\u001b[0m         \u001b[0;32mfor\u001b[0m \u001b[0mlayer\u001b[0m \u001b[0;32min\u001b[0m \u001b[0mself\u001b[0m\u001b[0;34m.\u001b[0m\u001b[0mlayers\u001b[0m\u001b[0;34m:\u001b[0m\u001b[0;34m\u001b[0m\u001b[0;34m\u001b[0m\u001b[0m\n\u001b[0;32m--> 125\u001b[0;31m             \u001b[0mlayer\u001b[0m\u001b[0;34m.\u001b[0m\u001b[0mW\u001b[0m \u001b[0;34m-=\u001b[0m \u001b[0mlr\u001b[0m \u001b[0;34m*\u001b[0m \u001b[0mlayer\u001b[0m\u001b[0;34m.\u001b[0m\u001b[0mgrad_W\u001b[0m\u001b[0;34m\u001b[0m\u001b[0;34m\u001b[0m\u001b[0m\n\u001b[0m\u001b[1;32m    126\u001b[0m             \u001b[0mlayer\u001b[0m\u001b[0;34m.\u001b[0m\u001b[0mb\u001b[0m \u001b[0;34m-=\u001b[0m \u001b[0mlr\u001b[0m \u001b[0;34m*\u001b[0m \u001b[0mlayer\u001b[0m\u001b[0;34m.\u001b[0m\u001b[0mgrad_b\u001b[0m\u001b[0;34m\u001b[0m\u001b[0;34m\u001b[0m\u001b[0m\n\u001b[1;32m    127\u001b[0m             \u001b[0mlayer\u001b[0m\u001b[0;34m.\u001b[0m\u001b[0mgamma\u001b[0m \u001b[0;34m-=\u001b[0m \u001b[0mlr\u001b[0m \u001b[0;34m*\u001b[0m \u001b[0mlayer\u001b[0m\u001b[0;34m.\u001b[0m\u001b[0mgrad_gamma\u001b[0m\u001b[0;34m\u001b[0m\u001b[0;34m\u001b[0m\u001b[0m\n",
            "\u001b[0;31mValueError\u001b[0m: operands could not be broadcast together with shapes (128,60) (32,60) (128,60) "
          ]
        }
      ]
    },
    {
      "metadata": {
        "id": "hYPv5koXCwYk",
        "colab_type": "code",
        "colab": {}
      },
      "cell_type": "code",
      "source": [
        "len(train)\n",
        "len(validate)\n",
        "train.shape"
      ],
      "execution_count": 0,
      "outputs": []
    },
    {
      "metadata": {
        "id": "XAmMCUzSupSo",
        "colab_type": "code",
        "colab": {}
      },
      "cell_type": "code",
      "source": [
        "pl.figure(figsize=(15,4))\n",
        "pl.plot(MSE)\n",
        "pl.grid()"
      ],
      "execution_count": 0,
      "outputs": []
    },
    {
      "metadata": {
        "id": "oGolRVIfGAcn",
        "colab_type": "code",
        "colab": {}
      },
      "cell_type": "code",
      "source": [
        ""
      ],
      "execution_count": 0,
      "outputs": []
    },
    {
      "metadata": {
        "id": "HExGAmdDalm0",
        "colab_type": "text"
      },
      "cell_type": "markdown",
      "source": [
        "##1.0 Introduction\n",
        "The experiment task consisted of building a neural network to perform multi-class classification on a supplied dataset without the use of Deep Learning frameworks (e.g. TensorFlow, Caffe, and KERAS). The dataset consisted of 60,000 labeled training samples and 10,000 unlabeled test samples. The structure of the data (e.g. image, video, etc) was unknown. The performance of the neural network was evaluated in terms of the accuracy metric. Various neural network structures and parameters were trailed to maximise speed and accuracy.\n",
        "\n",
        "The objective of building the neural network without Deep Learning frameworks was to gain a comprehensive understanding of the math and mechanics behind neural networks. This is important due to the increasing number of fields where neural networks are the state-of-the-art solution for machine learning.\n",
        "\n",
        "##2.0 Methods\n",
        "###2.1 Equipment\n",
        "The programing language Python3 was used to build the neural network. A **COMPUTER XX@** with the following specifications was used to run the neural network:\n",
        "*   Processor:\n",
        "*   Memory:\n",
        "*   Operating system:\n",
        "\n",
        "###2.2 Preprocessing\n",
        "\n",
        "Preprocessing data before feeding it to a Neural Network is important for many reasons. Firstly, greatly differing magnitudes between different features can lead to the network assigning false importance to the larger features. Preprocessing also speeds up convergence - centering the data can mitigate the vanishing gradient problem on activation functions such as sigmoid and tanh, while normalization can mitigate the exploding gradient problem with ReLU activation passing through huge net values.\n",
        "\n",
        "The method selected was z-score normalization. This is a two-step process - run on each feature independetly. First the mean of each feature is subtracted to centre it on zero; secondly the standard deviation is calculated and the feature divided by the standard deviation. The end result is features with zero mean and standard deviation 1. This ensures most of the variance is within the -1 to 1 range where most activation functions have the largest gradient.\n",
        "\n",
        "The output data was also one-hot encoded to create one column per output class. This maps back to the output of a neural network with one node per output class.\n",
        "\n",
        "###2.3 Weight Initialization\n",
        "\n",
        "The goal of weight initialization is to initialize the layers of the network with small random numbers to ensure that different nodes learn different things. We want to preserve variance through the network, so we examine each layer independently with the goal that outputs of a layer should have the same variance as the inputs. In order to preserve this variance for different activation functions, two methods of weight initialization are employed.\n",
        "\n",
        "Both methods are used to calculate the parameters of a distribution from which weights are selected. Two options are presented to the user - a uniform distribution and a truncated normal distribution. A truncated normal distribution is selected to remove large outliers - any weight with absolute value larger than the maximum of 2 standard deviations has its absolute value set to this limit.  \n",
        "\n",
        "###2.3.1 Xavier Initialization\n",
        "\n",
        "For sigmoid and tanh activation functions, the preservation of variance depends on both the number of inputs and the number of outputs of the layer. Firstly, for the truncated normal case, we want to average the number of inputs and outputs to select parameters for our distribution which are optimal for both.\n",
        "\n",
        "$$Var(W) = \\frac{1}{\\frac{n_{in} + n_{out}}{2}} = \\frac{2}{n_{in} + n_{out}} $$                 \n",
        "$$\\sigma(W) = \\sqrt{\\frac{2}{n_{in} + n_{out}}} $$\n",
        "\n",
        "To select bounds for a uniform distribution, we apply the function\n",
        "$$Var(\\mathit{Uniform(-limit, limit)}) = \\frac{limit^2}{3} $$\n",
        "$$Var(W) = \\frac{2}{n_{in} + n_{out}}  \\Leftrightarrow  limit = \\sqrt{\\frac{6}{n_{in}+n_{out}}} $$\n",
        "\n",
        "\n",
        "###2.3.2 He Initialization\n",
        "\n",
        "For ReLU activation, we encounter the issue that a ReLU unit halves the variance - the variance of negative numbers is nullified. So we must double the above formulae to compensate. One further simplification is that in their original paper, *He. et al* demonstrated that their initialization scheme works for both forward and backward passes, meaning we only need to consider $n_{in}$ and not the average of both. For truncated normal we derive the bounds:\n",
        "$$ Var(W) = \\frac{2}{n_{in}} $$\n",
        "\n",
        "$$ \\sigma(W) = \\sqrt{\\frac{2}{n_{in}}} $$\n",
        "\n",
        "Applying the function for the variance of limits from the Xavier Initialization section, we derive the bounds for uniform He initialization:\n",
        "\n",
        "$$ limit = \\sqrt{\\frac{6}{n_{in}}} $$\n",
        "\n",
        "##2.4 Training\n",
        "\n",
        "### 2.4.1 Gradient Descent\n",
        "Gradient descent is a machine learning optimization method used in deep learning to calculate the model parameters (weights and biases) that minimise the cost function. The gradient descent method invovles iterating through a training dataset and updating weights and baises in accordance with the gradient of error. There are three types of gradient descent. Each uses a different number of training examples to update the model parameters:\n",
        "*   **Batch Gradient Descent** uses the entire training dataset to calculate gradients and update the parameters. Because the entire training dataset is considered parameters updates are smooth however, it can take a long time to make a single update.\n",
        "*   **Stochastic Gradient Descent (SGD)** uses a single randomly selected sample from the training dataset to calculate gradients and update the parameters. Parameter updates are fast but very noisey.\n",
        "*   **Mini-batch Gradient Descent** uses a subset of the training data (e.g. batches of 1000 samples) to calculate gradients and update the parameters. Mini-batch gradient descent is a compromise between batch and stochastic gradient descent. The mini-batch size can be adjusted to find the appropriate balance between fast convergence and noisey updates. \n",
        "\n",
        "Mini-batch gradient descent was inplemented in the neural network due to the flexibility provided by the adjustable mini-batch size. Mini-batch sizes between 32 and 512 samples were used in accordance with the findings of *Keskar et al, 2017.* *Keskar et al* observed that larger batch-sizes resulted in a degradation in the quality of the model, as measured by its ability to generalize. A hybrid of batch gradient descent and stocahastic gradient descent was also implemented. In this method gradients were updated using the same number of samples as the entire training dataset (i.e. 60,000 samples). However, the 60,000 samples were draw stochastically meaning that some sample would have been used multiple times and others not at all. The stochastic approach to batch gradient ensured the neural network was fed data in a different sequence each epoch. This aids the neural networks ability to generalise.\n",
        "\n",
        "### 2.4.2 Stochastic Gradient Descent (SGD) with Momentum\n",
        "Momentum ($v_t$) is an exponentially weighted average of a neural networks gradients. It was used to update the weights ($w_t$) and biases ($b_t$) of the network.\n",
        "\n",
        "$$v_t = \\beta v_{t-1} + \\eta \\nabla_w J(w)$$\n",
        "$$w_t = w_{t-1} - v_t$$\n",
        "\n",
        "Momentum increases for features whose gradients point in the same direction and reduces for features whose gradients change direction. By reducing the fluctuation of gradients convergence is generally sped up. The hyper-parameter $\\beta$ takes a value between 0 - 1 and dictates how many samples are included in the exponential weighted average. A small $\\beta$ value will increase fluctuation because the average is taken over a smaller number of examples. A large $\\beta$ will increase smoothing because the average is taken over a larger number of examples. A $\\beta$ value of 0.9 was implemented. 0.9 is a widely used value for $\\beta$ (*Ruder, 2016*) as it provides a balance between the two extremes of over-smoothing and excessive fluctuations. \n",
        "\n",
        "\n",
        "### 2.4.3 Batch Normalization\n",
        "Batch Normalization is the normalization of a neural network's hidden layers so that the hidden units have standardised mean and variance. It is carried out on training data mini-batches, typically before the activation function is applied *(Ioffe et al, 2015)*. For each mini-batch $(MB)$ the mean $(\\mu)$ and variance $(\\sigma^2)$ is calculated for all features:\n",
        "\n",
        "$$\\mu_{MB} = \\frac{1}{m} \\sum_{i = 1}^{m} x_i$$\n",
        "$$\\sigma_{MB}^2 \\frac{1}{m} \\sum_{i = 1}^{m} (x_i - \\mu_{MB})^2 $$\n",
        "\n",
        "The normalized values of the hidden unit $x_i$ can then be calculated:\n",
        "\n",
        "$$\\tilde{x_i} = \\frac{x_i - \\mu_{MB}}{\\sqrt{\\sigma_{MB}^2+\\epsilon}}$$\n",
        "\n",
        "$\\tilde{x_i}$ has a mean and variance of 0 and 1 respectively. It may be advantageous to alter the mean and variance of $\\tilde{x_i}$ to manipulate its distribution. Learnable hyperparameters $\\gamma$ and $\\beta$ are introduced to $\\tilde{x_i}$ for this purpose:\n",
        "$$\\tilde{x_{i}} = \\gamma\\tilde{x_i} + \\beta $$\n",
        "\n",
        "While debate remains as to why batch normalization is effective *Ioffe et al* offer two reasons why batch normalization speeds up training. Firstly, as reported above, normalizing the input features of a neural network can speed up learning. This is becuase the cost function becomes more symetrical and larger steps (i.e. larger learning rate) can be taken. The same holds true when the hidden unit values are normalized. The second reason is that batch normalization makes weights deeper in the network more robust to changes that take place in earlier layers. During training the distribution of each layers inputs are adjusted as the parameters of the previous layer change. This is known as internal covariate shift. Batch normalization reduces the amount of covariate shift that occurs throughout the networks layers. This is particuarly benefical for the later layers of the network becausethe earlier layers don't shift as much due to their constrained mean and variance. Batch normalisation therefore allows for larger learning rates. It also means that one can be less careful with the initilisation of weights and bias. A secondary benefit of batch normalization is regularization which helps with model overfit.\n",
        "\n",
        "##2.5 Regularization\n",
        "\n",
        "A common issue in machine learning is the tendency to overfit - a model which perfectly describes the training data may fail to generalize when it comes to unseen data. Various methods can be used to regularize the weights of a neural network to ameliorate overfitting.\n",
        "\n",
        "### 2.5.1 Early Stopping\n",
        "\n",
        "The simplest method is an attempt to reduce over-training - early stopping. To achieve this, we split the data into a large training set, and a small validation set. The accuracy on the held-out validation set is measured at the end of each epoch and stored. If the accuracy has not improved for a certain number of epochs, we cease training and return the model.\n",
        "\n",
        "### 2.5.2 Weight Decay\n",
        "\n",
        "Weight decay is essentially a form of $l2$ regularization. An additional term is added to the loss function to suppress larger weights. Used along with back-propagation, this additional term will see the weights tend to decay toward zero when they would otherwise be untouched. \n",
        "\n",
        "The following term is added to the loss function:\n",
        "$$ \\lambda \\sum W_{i}^2 $$\n",
        "\n",
        "During back-propagation, this translates to an additional gradient on each weight of \n",
        "\n",
        "$$ 2W * \\lambda $$\n",
        "\n",
        "where $ \\lambda $ is an additional parameter of the model - the regularization weight.\n",
        "\n",
        "### 2.5.3 Dropout\n",
        "\n",
        "Dropout is a regularisation method patented by Google. It consists of setting the output of neurons in hidden layers to 0 based on a binomial distribution where the probaibility is set as a hyperparameter of the model. The remaining weights are then scaled inversely proportionally to the probaibility set. This is to ensure that the expected magnitude of the neural networks output remains the same as when dropout is not applied (Like during prediction time). \n",
        "\n",
        "It can be said that all neural networks use dropout, however most of them apply a probability of 1 effectivly causing no change to the output. This is what was implemented for this assignment with the default probability being set to 1. \n",
        "\n",
        "Dropout has also been described as a way of performing model averaging without explicitly training different models like what is done with boosting. This description is used because of any given training example a small subset of the neural network learns how to fit the example. This creates a weak learner. Since the subsets of the neural network all share their weights the result is similar to averaging all of their outputs. More on this idea can be found here: http://papers.nips.cc/paper/4878-understanding-dropout.pdf\n",
        "\n",
        "##2.6 Activation Functions\n",
        "\n",
        "Two different activation functions we're implemented as part of this neural network. The Sigmoid and Tanh activation functions were supplied.\n",
        "\n",
        "### 2.6.1 ReLU\n",
        "\n",
        "The ReLU also known as Rectified Linear Unit formulation:\n",
        "\n",
        "$ f(x) = \\begin{cases}\n",
        "    x & \\mbox{if } x > 0 \\\\\n",
        "    0 & \\mbox{otherwise}\n",
        "\\end{cases}$\n",
        "\n",
        "The ReLU activaiton function has gained some popularity in part due to the properties of it's gradient. It's derivative is very quick to calculate and does not get extremely small or large. This is because the formulation for its derivative is: \n",
        "\n",
        "$ f'(x) = \\begin{cases}\n",
        "    1 & \\mbox{if } x > 0 \\\\\n",
        "    0 & \\mbox{otherwise}\n",
        "\\end{cases}$\n",
        "\n",
        "\n",
        "A variant of ReLU was also implemented. This variant is called Leaky ReLU. The leaky component of ReLU is because it still retains some information when the input value is less than 0 as described below:\n",
        "\n",
        "$ f(x) = \\begin{cases}\n",
        "    x & \\mbox{if } x > 0 \\\\\n",
        "    0.01x & \\mbox{otherwise}\n",
        "\\end{cases}$\n",
        "\n",
        "The derivative for this retains most of the positive properties that the standard ReLU has but this Leaky version results in no dead neurons. This is when a neuron only produces negative values and therefor will only output 0. This means that neurons derivative will also be 0 and it's weights will never change. More on this can be found here: https://arxiv.org/pdf/1505.00853.pdf\n",
        "\n",
        "$ f'(x) = \\begin{cases}\n",
        "    1 & \\mbox{if } x > 0 \\\\\n",
        "    0.01 & \\mbox{otherwise}\n",
        "\\end{cases}$\n",
        "\n",
        "### 2.6.2 Softmax\n",
        "The Softmax activation function is primarily used on the last layer of a neural network so that its outputs resemble a probability distribution. It achieves this by processing a whole layer as a group instead of individual neurons like the other activation functions used. It does this by rescaling or normalising the outputs of the layer to between 0 and 1. It does this to the eponential of all the values. This is because the result is always postive and the result is closer to the result from argmax than regulkar normalisation is. This is helpful because during prediction time argmax is used but this is not differentiable and so cannot be used in training. \n",
        "\n",
        "The specific implementation of softmax used is from the SciPy library. The source code for this can be found here: https://github.com/scipy/scipy/blob/v1.2.1/scipy/special/_logsumexp.py#L132-L215\n",
        "\n",
        "This particular implementation was used as everything is computed in log space which leads to better numerical stability. \n",
        "\n",
        "##2.7 Cost Function\n",
        "\n",
        "### 2.7.1 Cross Entropy Loss\n"
      ]
    },
    {
      "metadata": {
        "id": "BRDGNA5IPpGY",
        "colab_type": "text"
      },
      "cell_type": "markdown",
      "source": [
        "Louis testing stuff below"
      ]
    },
    {
      "metadata": {
        "id": "WLXWBGImOPVM",
        "colab_type": "code",
        "outputId": "83dcede8-5555-45b0-c89e-e2f3a6bb0503",
        "colab": {
          "base_uri": "https://localhost:8080/",
          "height": 136
        }
      },
      "cell_type": "code",
      "source": [
        "\n",
        "np.seterr(all=\"warn\")\n",
        "np.random.seed(1)\n",
        "procdata = np.copy(data)\n",
        "preprocess(procdata, 'zscore')\n",
        "\n",
        "#split data\n",
        "train, train_target, validate, validate_target = split(procdata, label)\n",
        "#one hot encode targets\n",
        "train_target = OHE(train_target, 10)\n",
        "validate_target = OHE(validate_target, 10)\n",
        "\n",
        "\n",
        "nn = MLP([128,105,82, 30,10], [None, 'leaky_relu','leaky_relu','leaky_relu', 'softmax'])\n",
        "nn.set_early_stopping(validate, validate_target, 50)\n",
        "start = time.time()\n",
        "MSE = nn.fit_mb(train, train_target, learning_rate=0.005,mini_batch_size=32, epochs=500, dropout_p=0.8)\n",
        "print(\"{}s to train\".format(time.time() - start))\n",
        "\n",
        "print('loss:%f'%MSE[-1])"
      ],
      "execution_count": 0,
      "outputs": [
        {
          "output_type": "stream",
          "text": [
            "...."
          ],
          "name": "stdout"
        },
        {
          "output_type": "stream",
          "text": [
            "/usr/local/lib/python3.6/dist-packages/ipykernel_launcher.py:4: RuntimeWarning: underflow encountered in square\n",
            "  after removing the cwd from sys.path.\n"
          ],
          "name": "stderr"
        },
        {
          "output_type": "stream",
          "text": [
            ".."
          ],
          "name": "stdout"
        },
        {
          "output_type": "stream",
          "text": [
            "/usr/local/lib/python3.6/dist-packages/scipy/special/_logsumexp.py:112: RuntimeWarning: underflow encountered in exp\n",
            "  tmp = np.exp(a - a_max)\n",
            "/usr/local/lib/python3.6/dist-packages/scipy/special/_logsumexp.py:215: RuntimeWarning: underflow encountered in exp\n",
            "  return np.exp(x - logsumexp(x, axis=axis, keepdims=True))\n"
          ],
          "name": "stderr"
        },
        {
          "output_type": "stream",
          "text": [
            "."
          ],
          "name": "stdout"
        }
      ]
    },
    {
      "metadata": {
        "id": "0C-vQveSFXUZ",
        "colab_type": "code",
        "outputId": "c551c7a9-522d-4936-daca-5180c06c8d7f",
        "colab": {
          "base_uri": "https://localhost:8080/",
          "height": 34
        }
      },
      "cell_type": "code",
      "source": [
        "preds = nn.predict(validate)\n",
        "calc_accuracy(labels_from_preds(preds), labels_from_preds(validate_target))"
      ],
      "execution_count": 0,
      "outputs": [
        {
          "output_type": "execute_result",
          "data": {
            "text/plain": [
              "0.8874444444444445"
            ]
          },
          "metadata": {
            "tags": []
          },
          "execution_count": 22
        }
      ]
    },
    {
      "metadata": {
        "id": "6yXjnNSj_bv3",
        "colab_type": "code",
        "outputId": "0ca5998c-a021-47d0-96a2-aeaf935ca73b",
        "colab": {
          "base_uri": "https://localhost:8080/",
          "height": 269
        }
      },
      "cell_type": "code",
      "source": [
        "pl.figure(figsize=(15,4))\n",
        "pl.plot(MSE)\n",
        "pl.grid()"
      ],
      "execution_count": 0,
      "outputs": [
        {
          "output_type": "display_data",
          "data": {
            "image/png": "[encoded data removed]",
            "text/plain": [
              "<Figure size 1080x288 with 1 Axes>"
            ]
          },
          "metadata": {
            "tags": []
          }
        }
      ]
    },
    {
      "metadata": {
        "id": "P9SnISKQaugu",
        "colab_type": "text"
      },
      "cell_type": "markdown",
      "source": [
        "#Ben's testing area"
      ]
    },
    {
      "metadata": {
        "id": "C86iTp53as_q",
        "colab_type": "code",
        "colab": {}
      },
      "cell_type": "code",
      "source": [
        "np.seterr(all=\"warn\")\n",
        "np.random.seed(1)\n",
        "procdata = np.copy(data)\n",
        "preprocess(procdata, 'zscore')\n",
        "\n",
        "#split data\n",
        "train, train_target, validate, validate_target = split(procdata, label)\n",
        "#one hot encode targets\n",
        "train_target = OHE(train_target, 10)\n",
        "validate_target = OHE(validate_target, 10)\n",
        "second_layer = True\n",
        "relu = False\n",
        "if second_layer:\n",
        "  nn = MLP([128,69, 99, 10], [None,'relu', 'relu', 'softmax'])\n",
        "elif relu:\n",
        "  nn = MLP([128,69,30,10], [None,'relu', 'relu', 'relu', 'softmax'])\n",
        "  #nn.set_early_stopping(validate, validate_target, 10)\n",
        "  start = time.time()\n",
        "  MSE = nn.fit_mb(train, train_target, learning_rate=0.01, epochs=500, mini_batch_size=32)\n",
        "  print(\"{}s to train\".format(time.time() - start))\n",
        "else:\n",
        "  nn = MLP([128,30,10], [None,'relu','softmax'], init_uniform=False, weight_decay=0)\n",
        "  nn.set_early_stopping(validate, validate_target, 10)\n",
        "  start = time.time()\n",
        "  MSE = nn.fit_mb(train, train_target, learning_rate=0.01, epochs=500, mini_batch_size=32)\n",
        "  print(\"{}s to train\".format(time.time() - start))\n",
        "print('loss:%f'%MSE[-1])"
      ],
      "execution_count": 0,
      "outputs": []
    },
    {
      "metadata": {
        "id": "jHbIDW6iqxfe",
        "colab_type": "code",
        "outputId": "3c3ebaa2-442f-4370-e141-18af16d129ba",
        "colab": {
          "base_uri": "https://localhost:8080/",
          "height": 71
        }
      },
      "cell_type": "code",
      "source": [
        "\n",
        "np.seterr(all=\"warn\")\n",
        "np.random.seed(1)\n",
        "procdata = np.copy(data)\n",
        "preprocess(procdata, 'zscore')\n",
        "\n",
        "#split data\n",
        "train, train_target, validate, validate_target = split(procdata, label)\n",
        "#one hot encode targets\n",
        "train_target = OHE(train_target, 10)\n",
        "validate_target = OHE(validate_target, 10)\n",
        "second_layer = False\n",
        "relu = False\n",
        "if second_layer:\n",
        "  nn = MLP([128,60,30,10], [None,'logistic','logistic','tanh'])\n",
        "  nn.set_early_stopping(validate, validate_target, 10)\n",
        "elif relu:\n",
        "  nn = MLP([128, 69, 69, 99, 10], [None, 'relu', 'relu', 'relu', 'softmax'], init_uniform=False, weight_decay=0.05)\n",
        "  nn.set_early_stopping(validate, validate_target, 10)\n",
        "  start = time.time()\n",
        "  MSE = nn.fit_mb(train, train_target, learning_rate=0.01,mini_batch_size=32, epochs=20, dropout_p=1)\n",
        "  print(\"{}s to train\".format(time.time() - start))\n",
        "else:\n",
        "  nn = MLP([128, 69, 99, 10], [None,'logistic', 'logistic', 'tanh'], init_uniform=True, weight_decay=0.1)\n",
        "  nn.set_early_stopping(validate, validate_target, 100)\n",
        "  start = time.time()\n",
        "  MSE = nn.fit_SGD_momentum(train, train_target, learning_rate=0.005, epochs=500, dropout_p=1)\n",
        "  print(\"{}s to train\".format(time.time() - start))\n",
        "print('loss:%f'%MSE[-1])"
      ],
      "execution_count": 0,
      "outputs": [
        {
          "output_type": "stream",
          "text": [
            "...........Haven't improved accuracy on validation set in 100 epochs, stopping\n",
            "2077.588443517685s to train\n",
            "loss:0.000000\n"
          ],
          "name": "stdout"
        }
      ]
    },
    {
      "metadata": {
        "id": "KP_gHGnhcqgm",
        "colab_type": "code",
        "outputId": "ce6a1983-3bae-43ca-bb30-e58b615f9486",
        "colab": {
          "base_uri": "https://localhost:8080/",
          "height": 35
        }
      },
      "cell_type": "code",
      "source": [
        "preds = nn.predict(validate)\n",
        "calc_accuracy(labels_from_preds(preds), labels_from_preds(validate_target))"
      ],
      "execution_count": 0,
      "outputs": [
        {
          "output_type": "execute_result",
          "data": {
            "text/plain": [
              "0.1"
            ]
          },
          "metadata": {
            "tags": []
          },
          "execution_count": 88
        }
      ]
    },
    {
      "metadata": {
        "id": "Ap0Rp-bya3-K",
        "colab_type": "code",
        "outputId": "b9410e0e-18da-49c4-fb34-81e65dfc4719",
        "colab": {
          "base_uri": "https://localhost:8080/",
          "height": 269
        }
      },
      "cell_type": "code",
      "source": [
        "pl.figure(figsize=(15,4))\n",
        "pl.plot(MSE)\n",
        "pl.grid()"
      ],
      "execution_count": 0,
      "outputs": [
        {
          "output_type": "display_data",
          "data": {
            "image/png": "[encoded data removed]",
            "text/plain": [
              "<Figure size 1080x288 with 1 Axes>"
            ]
          },
          "metadata": {
            "tags": []
          }
        }
      ]
    }
  ]
}